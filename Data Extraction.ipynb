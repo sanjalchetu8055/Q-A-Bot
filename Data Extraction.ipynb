{
 "cells": [
  {
   "cell_type": "code",
   "execution_count": 6,
   "metadata": {},
   "outputs": [
    {
     "name": "stdout",
     "output_type": "stream",
     "text": [
      "Text data has been saved to Data_extracted\n"
     ]
    }
   ],
   "source": [
    "import urllib.request\n",
    "from bs4 import BeautifulSoup\n",
    "import csv\n",
    "import re\n",
    "\n",
    "# Fetch HTML content\n",
    "url = 'https://en.wikipedia.org/wiki/History_of_Google'\n",
    "html = urllib.request.urlopen(url).read()\n",
    "soup = BeautifulSoup(html, 'html.parser')\n",
    "\n",
    "# Find all <p> tags and extract text\n",
    "paragraphs = soup.find_all('p') \n",
    "\n",
    "text_data = []\n",
    "for paragraph in paragraphs:\n",
    "    text = paragraph.get_text().strip()  # Remove leading/trailing whitespace\n",
    "    if len(text) >= 50:  \n",
    "        # Preprocessing steps\n",
    "        text = re.sub(r'\\[\\d+\\]', '', text)  # Remove reference numbers like [9], [10], etc.\n",
    "        # text = re.sub(r'[^\\w\\s\\-\\' ]', '', text)  # Remove special characters except spaces, hyphens, and apostrophes\n",
    "        text = re.sub(r'\\s+', ' ', text)  # Remove extra whitespaces\n",
    "        text_data.append(text)\n",
    "\n",
    "# Save the extracted text to a CSV file\n",
    "csv_filename = 'Data_extracted'\n",
    "with open(csv_filename, 'w', newline='', encoding='utf-8') as csvfile:\n",
    "    writer = csv.writer(csvfile)\n",
    "    writer.writerow(['Text'])\n",
    "    for text in text_data:\n",
    "        writer.writerow([text])\n",
    "\n",
    "print(f\"Text data has been saved to {csv_filename}\")"
   ]
  },
  {
   "cell_type": "code",
   "execution_count": null,
   "metadata": {},
   "outputs": [],
   "source": []
  }
 ],
 "metadata": {
  "kernelspec": {
   "display_name": "Python 3",
   "language": "python",
   "name": "python3"
  },
  "language_info": {
   "codemirror_mode": {
    "name": "ipython",
    "version": 3
   },
   "file_extension": ".py",
   "mimetype": "text/x-python",
   "name": "python",
   "nbconvert_exporter": "python",
   "pygments_lexer": "ipython3",
   "version": "3.7.3"
  }
 },
 "nbformat": 4,
 "nbformat_minor": 2
}
